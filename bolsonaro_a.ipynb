{
 "cells": [
  {
   "cell_type": "code",
   "execution_count": 5,
   "id": "f1deb1c9",
   "metadata": {},
   "outputs": [],
   "source": [
    "import pandas as pd\n",
    "import numpy as np\n",
    "import matplotlib.pyplot as plt\n",
    "import json"
   ]
  },
  {
   "cell_type": "code",
   "execution_count": 6,
   "id": "d9dc94de",
   "metadata": {},
   "outputs": [],
   "source": [
    "cols = ['full_text']"
   ]
  },
  {
   "cell_type": "code",
   "execution_count": 7,
   "id": "af44fab9",
   "metadata": {},
   "outputs": [],
   "source": [
    "data1 = []\n",
    "data2 = []\n",
    "data3 = []\n",
    "data4 = []\n",
    "data5 = []\n",
    "data6 = []\n",
    "data7 = []\n",
    "data8 = []\n",
    "data9 = []\n",
    "data10 = []\n",
    "data11 = []\n",
    "file_name1 = 'bolsonaro_2022-08-21.json'\n",
    "file_name2 = 'bolsonaro_2022-08-22.json'\n",
    "file_name3 = 'bolsonaro_2022-08-23.json'\n",
    "file_name4 = 'bolsonaro_2022-08-24.json'\n",
    "file_name5 = 'bolsonaro_2022-08-25.json'\n",
    "file_name6 = 'bolsonaro_2022-08-26.json'\n",
    "file_name7 = 'bolsonaro_2022-08-27.json'\n",
    "file_name8 = 'bolsonaro_2022-08-28.json'\n",
    "file_name9 = 'bolsonaro_2022-08-29.json'\n",
    "file_name10 = 'bolsonaro_2022-08-30.json'\n",
    "file_name11 = 'bolsonaro_2022-08-31.json'"
   ]
  },
  {
   "cell_type": "code",
   "execution_count": 8,
   "id": "5d04a648",
   "metadata": {},
   "outputs": [],
   "source": [
    "with open(file_name1, encoding='latin-1') as f1:   \n",
    "    for line in f1:\n",
    "        doc = json.loads(line)\n",
    "        lst = [doc['full_text']]\n",
    "        data1.append(lst)\n",
    "        \n",
    "with open(file_name2, encoding='latin-1') as f2:   \n",
    "    for line in f2:\n",
    "        doc = json.loads(line)\n",
    "        lst = [doc['full_text']]\n",
    "        data2.append(lst)\n",
    "        \n",
    "with open(file_name3, encoding='latin-1') as f3:   \n",
    "    for line in f3:\n",
    "        doc = json.loads(line)\n",
    "        lst = [doc['full_text']]\n",
    "        data3.append(lst)\n",
    "        \n",
    "with open(file_name4, encoding='latin-1') as f4:   \n",
    "    for line in f4:\n",
    "        doc = json.loads(line)\n",
    "        lst = [doc['full_text']]\n",
    "        data4.append(lst)\n",
    "\n",
    "with open(file_name5, encoding='latin-1') as f5:   \n",
    "    for line in f5:\n",
    "        doc = json.loads(line)\n",
    "        lst = [doc['full_text']]\n",
    "        data5.append(lst)\n",
    "        \n",
    "with open(file_name6, encoding='latin-1') as f6:   \n",
    "    for line in f6:\n",
    "        doc = json.loads(line)\n",
    "        lst = [doc['full_text']]\n",
    "        data6.append(lst)\n",
    "        \n",
    "with open(file_name7, encoding='latin-1') as f7:   \n",
    "    for line in f7:\n",
    "        doc = json.loads(line)\n",
    "        lst = [doc['full_text']]\n",
    "        data7.append(lst)\n",
    "        \n",
    "with open(file_name8, encoding='latin-1') as f8:   \n",
    "    for line in f8:\n",
    "        doc = json.loads(line)\n",
    "        lst = [doc['full_text']]\n",
    "        data8.append(lst)\n",
    "        \n",
    "with open(file_name9, encoding='latin-1') as f9:   \n",
    "    for line in f9:\n",
    "        doc = json.loads(line)\n",
    "        lst = [doc['full_text']]\n",
    "        data9.append(lst)\n",
    "        \n",
    "with open(file_name10, encoding='latin-1') as f10:   \n",
    "    for line in f10:\n",
    "        doc = json.loads(line)\n",
    "        lst = [doc['full_text']]\n",
    "        data10.append(lst)\n",
    "        \n",
    "with open(file_name11, encoding='latin-1') as f11:   \n",
    "    for line in f11:\n",
    "        doc = json.loads(line)\n",
    "        lst = [doc['full_text']]\n",
    "        data11.append(lst)\n",
    "        "
   ]
  },
  {
   "cell_type": "code",
   "execution_count": 9,
   "id": "a57c6cff",
   "metadata": {},
   "outputs": [],
   "source": [
    "df1 = pd.DataFrame(data=data1, columns=cols)\n",
    "df2 = pd.DataFrame(data=data2, columns=cols)\n",
    "df3 = pd.DataFrame(data=data3, columns=cols)\n",
    "df4 = pd.DataFrame(data=data4, columns=cols)\n",
    "df5 = pd.DataFrame(data=data5, columns=cols)\n",
    "df6 = pd.DataFrame(data=data6, columns=cols)\n",
    "df7 = pd.DataFrame(data=data7, columns=cols)\n",
    "df8 = pd.DataFrame(data=data8, columns=cols)\n",
    "df9 = pd.DataFrame(data=data9, columns=cols)\n",
    "df10 = pd.DataFrame(data=data10, columns=cols)\n",
    "df11 = pd.DataFrame(data=data11, columns=cols)"
   ]
  },
  {
   "cell_type": "code",
   "execution_count": 11,
   "id": "053e4d98",
   "metadata": {},
   "outputs": [],
   "source": [
    "total_len = (df11.shape[0]) + (df1.shape[0]) + (df2.shape[0]) + (df3.shape[0]) + (df4.shape[0]) + (df5.shape[0]) + (df6.shape[0]) + (df7.shape[0]) + (df8.shape[0]) + (df9.shape[0]) + (df10.shape[0]) "
   ]
  },
  {
   "cell_type": "code",
   "execution_count": 12,
   "id": "e6df0fe9",
   "metadata": {},
   "outputs": [],
   "source": [
    "len11 = df11.shape[0]\n",
    "prob11 = (len11/total_len) * 100\n",
    "len1 = df1.shape[0]\n",
    "prob1 = (len1/total_len) * 100\n",
    "len2 = df2.shape[0]\n",
    "prob2 = (len2/total_len) * 100\n",
    "len3 = df3.shape[0]\n",
    "prob3 = (len3/total_len) * 100\n",
    "len4 = df4.shape[0]\n",
    "prob4 = (len4/total_len) * 100\n",
    "len5 = df5.shape[0]\n",
    "prob5 = (len5/total_len) * 100\n",
    "len6 = df6.shape[0]\n",
    "prob6 = (len6/total_len) * 100\n",
    "len7 = df7.shape[0]\n",
    "prob7 = (len7/total_len) * 100\n",
    "len8 = df8.shape[0]\n",
    "prob8 = (len8/total_len) * 100\n",
    "len9 = df9.shape[0]\n",
    "prob9 = (len9/total_len) * 100\n",
    "len10 = df10.shape[0]\n",
    "prob10 = (len10/total_len) * 100"
   ]
  },
  {
   "cell_type": "code",
   "execution_count": 13,
   "id": "86fa969d",
   "metadata": {},
   "outputs": [],
   "source": [
    "result_prob = np.array([prob11, prob1, prob2, prob3, prob4, prob5, prob6, prob7, prob8, prob9, prob10])"
   ]
  },
  {
   "cell_type": "code",
   "execution_count": 14,
   "id": "5a1c0e91",
   "metadata": {},
   "outputs": [],
   "source": [
    "dias = np.array([21,22,23,24,25,26,27,28,29,30,31])"
   ]
  },
  {
   "cell_type": "code",
   "execution_count": 15,
   "id": "734bed9c",
   "metadata": {},
   "outputs": [],
   "source": [
    "DF = pd.DataFrame(result_prob, dias)"
   ]
  },
  {
   "cell_type": "code",
   "execution_count": 16,
   "id": "f8ec4655",
   "metadata": {},
   "outputs": [],
   "source": [
    "DF.to_csv(\"resultado_bolsonaro.csv\")"
   ]
  },
  {
   "cell_type": "code",
   "execution_count": null,
   "id": "fd886622",
   "metadata": {},
   "outputs": [],
   "source": []
  }
 ],
 "metadata": {
  "kernelspec": {
   "display_name": "Python 3 (ipykernel)",
   "language": "python",
   "name": "python3"
  },
  "language_info": {
   "codemirror_mode": {
    "name": "ipython",
    "version": 3
   },
   "file_extension": ".py",
   "mimetype": "text/x-python",
   "name": "python",
   "nbconvert_exporter": "python",
   "pygments_lexer": "ipython3",
   "version": "3.9.16"
  }
 },
 "nbformat": 4,
 "nbformat_minor": 5
}
