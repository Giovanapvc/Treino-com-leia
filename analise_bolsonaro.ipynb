{
 "cells": [
  {
   "cell_type": "code",
   "execution_count": 83,
   "id": "d2538560",
   "metadata": {},
   "outputs": [],
   "source": [
    "from nltk import word_tokenize\n",
    "import nltk\n",
    "import re\n",
    "import pandas as pd\n",
    "from sklearn.feature_extraction.text import CountVectorizer\n",
    "from sklearn.naive_bayes import MultinomialNB\n",
    "from sklearn import svm\n",
    "from sklearn import metrics\n",
    "from sklearn.model_selection import cross_val_predict\n",
    "import json\n",
    "from leia import SentimentIntensityAnalyzer \n",
    "s = SentimentIntensityAnalyzer()\n",
    "import pandas as pd\n",
    "from csv import reader\n",
    "import csv"
   ]
  },
  {
   "cell_type": "code",
   "execution_count": 84,
   "id": "a26120ef",
   "metadata": {},
   "outputs": [],
   "source": [
    "cols = ['full_text']\n",
    "data1 = []\n",
    "file_name = 'bolsonaro_2022-08-31.json'\n",
    "with open(file_name, encoding='latin-1') as f1:   \n",
    "    for line in f1:\n",
    "        doc = json.loads(line)\n",
    "        lst = [doc['full_text']]\n",
    "        data1.append(lst)\n",
    "\n",
    "df = pd.DataFrame(data=data1, columns=cols)"
   ]
  },
  {
   "cell_type": "code",
   "execution_count": 85,
   "id": "0d9dfb03",
   "metadata": {},
   "outputs": [],
   "source": [
    "df.drop_duplicates(['full_text'], inplace=True)   #remover retweets, repeticoes de texto"
   ]
  },
  {
   "cell_type": "code",
   "execution_count": 86,
   "id": "00bd1838",
   "metadata": {},
   "outputs": [
    {
     "data": {
      "text/plain": [
       "34325"
      ]
     },
     "execution_count": 86,
     "metadata": {},
     "output_type": "execute_result"
    }
   ],
   "source": [
    "df.full_text.count()"
   ]
  },
  {
   "cell_type": "code",
   "execution_count": 89,
   "id": "18384680",
   "metadata": {},
   "outputs": [],
   "source": [
    "tweets_bolsonaro = df['full_text']"
   ]
  },
  {
   "cell_type": "code",
   "execution_count": null,
   "id": "43ed173f",
   "metadata": {},
   "outputs": [],
   "source": [
    "tweets_bolsonaro.to_csv(\"tweets_bolsonaro.csv\")"
   ]
  },
  {
   "cell_type": "code",
   "execution_count": 71,
   "id": "caab9ea0",
   "metadata": {},
   "outputs": [],
   "source": [
    "d = pd.read_csv('tweets_bolsonaro.csv',names=['index','tweets'], header=0)"
   ]
  },
  {
   "cell_type": "code",
   "execution_count": 72,
   "id": "42454f93",
   "metadata": {},
   "outputs": [],
   "source": [
    "sent_i = SentimentIntensityAnalyzer()\n",
    "def vadar_sentiment(text):\n",
    "    return sent_i.polarity_scores(text)['compound']"
   ]
  },
  {
   "cell_type": "code",
   "execution_count": 73,
   "id": "317c21bd",
   "metadata": {},
   "outputs": [],
   "source": [
    "d['vadar compound'] = d['tweets'].apply(vadar_sentiment)"
   ]
  },
  {
   "cell_type": "code",
   "execution_count": 74,
   "id": "f5af9b9a",
   "metadata": {},
   "outputs": [],
   "source": [
    "def categorise_sentiment(sentiment, neg_threshold=-0.05, pos_threshold=0.05):\n",
    "    if sentiment < neg_threshold:\n",
    "        label = 'negative'\n",
    "    elif sentiment > pos_threshold:\n",
    "        label = 'positive'\n",
    "    else:\n",
    "        label = 'neutral'\n",
    "    return label\n",
    "\n",
    "d['vadar sentiment'] = d['vadar compound'].apply(categorise_sentiment)"
   ]
  },
  {
   "cell_type": "code",
   "execution_count": 75,
   "id": "9d24a6d0",
   "metadata": {},
   "outputs": [
    {
     "data": {
      "text/plain": [
       "0        positive\n",
       "1         neutral\n",
       "2         neutral\n",
       "3         neutral\n",
       "4        positive\n",
       "           ...   \n",
       "34320    positive\n",
       "34321     neutral\n",
       "34322    negative\n",
       "34323    positive\n",
       "34324     neutral\n",
       "Name: vadar sentiment, Length: 34325, dtype: object"
      ]
     },
     "execution_count": 75,
     "metadata": {},
     "output_type": "execute_result"
    }
   ],
   "source": [
    "d['vadar sentiment']"
   ]
  },
  {
   "cell_type": "code",
   "execution_count": 76,
   "id": "023225ee",
   "metadata": {},
   "outputs": [],
   "source": [
    "classes = d['vadar sentiment']"
   ]
  },
  {
   "cell_type": "code",
   "execution_count": 77,
   "id": "b9e30d6a",
   "metadata": {},
   "outputs": [
    {
     "data": {
      "text/plain": [
       "negative    14274\n",
       "neutral     10745\n",
       "positive     9306\n",
       "Name: vadar sentiment, dtype: int64"
      ]
     },
     "execution_count": 77,
     "metadata": {},
     "output_type": "execute_result"
    }
   ],
   "source": [
    "classes.value_counts()"
   ]
  },
  {
   "cell_type": "code",
   "execution_count": 91,
   "id": "d1c234ba",
   "metadata": {
    "scrolled": true
   },
   "outputs": [
    {
     "data": {
      "text/html": [
       "<div>\n",
       "<style scoped>\n",
       "    .dataframe tbody tr th:only-of-type {\n",
       "        vertical-align: middle;\n",
       "    }\n",
       "\n",
       "    .dataframe tbody tr th {\n",
       "        vertical-align: top;\n",
       "    }\n",
       "\n",
       "    .dataframe thead th {\n",
       "        text-align: right;\n",
       "    }\n",
       "</style>\n",
       "<table border=\"1\" class=\"dataframe\">\n",
       "  <thead>\n",
       "    <tr style=\"text-align: right;\">\n",
       "      <th></th>\n",
       "      <th>index</th>\n",
       "      <th>tweets</th>\n",
       "      <th>vadar compound</th>\n",
       "      <th>vadar sentiment</th>\n",
       "    </tr>\n",
       "  </thead>\n",
       "  <tbody>\n",
       "    <tr>\n",
       "      <th>0</th>\n",
       "      <td>0</td>\n",
       "      <td>RT @sandracarrara1: Governo Bolsonaro inovando...</td>\n",
       "      <td>0.5267</td>\n",
       "      <td>positive</td>\n",
       "    </tr>\n",
       "    <tr>\n",
       "      <th>1</th>\n",
       "      <td>1</td>\n",
       "      <td>RT @BalsanubCandido: #7DeSetembroVaiSerGigante...</td>\n",
       "      <td>0.0000</td>\n",
       "      <td>neutral</td>\n",
       "    </tr>\n",
       "    <tr>\n",
       "      <th>2</th>\n",
       "      <td>2</td>\n",
       "      <td>RT @LizzyeChristy: ParabÃ©ns Bolsonaro, Curiti...</td>\n",
       "      <td>0.0000</td>\n",
       "      <td>neutral</td>\n",
       "    </tr>\n",
       "    <tr>\n",
       "      <th>3</th>\n",
       "      <td>3</td>\n",
       "      <td>RT @BrazilFight: A matÃ©ria da Folha sobre a c...</td>\n",
       "      <td>0.0000</td>\n",
       "      <td>neutral</td>\n",
       "    </tr>\n",
       "    <tr>\n",
       "      <th>4</th>\n",
       "      <td>4</td>\n",
       "      <td>RT @GuedinhoeFans: Carluxo se esqueceu de reno...</td>\n",
       "      <td>0.4215</td>\n",
       "      <td>positive</td>\n",
       "    </tr>\n",
       "    <tr>\n",
       "      <th>...</th>\n",
       "      <td>...</td>\n",
       "      <td>...</td>\n",
       "      <td>...</td>\n",
       "      <td>...</td>\n",
       "    </tr>\n",
       "    <tr>\n",
       "      <th>34320</th>\n",
       "      <td>179470</td>\n",
       "      <td>RT @jpnewspr: Nesta quarta-feira (31), o RN Op...</td>\n",
       "      <td>0.3182</td>\n",
       "      <td>positive</td>\n",
       "    </tr>\n",
       "    <tr>\n",
       "      <th>34321</th>\n",
       "      <td>179473</td>\n",
       "      <td>@camialtr amigakkkkkkkkkkkkkkkkkkkkk sera q o ...</td>\n",
       "      <td>0.0000</td>\n",
       "      <td>neutral</td>\n",
       "    </tr>\n",
       "    <tr>\n",
       "      <th>34322</th>\n",
       "      <td>179487</td>\n",
       "      <td>Como Bolsonaro recuperou moto e pistola roubad...</td>\n",
       "      <td>-0.5106</td>\n",
       "      <td>negative</td>\n",
       "    </tr>\n",
       "    <tr>\n",
       "      <th>34323</th>\n",
       "      <td>179489</td>\n",
       "      <td>O boy ganha um salÃ¡rio por mÃªs, mora na peri...</td>\n",
       "      <td>0.8442</td>\n",
       "      <td>positive</td>\n",
       "    </tr>\n",
       "    <tr>\n",
       "      <th>34324</th>\n",
       "      <td>179496</td>\n",
       "      <td>@danieljosebr Concordo contigo, Louro JosÃ©\\nA...</td>\n",
       "      <td>0.0000</td>\n",
       "      <td>neutral</td>\n",
       "    </tr>\n",
       "  </tbody>\n",
       "</table>\n",
       "<p>34325 rows × 4 columns</p>\n",
       "</div>"
      ],
      "text/plain": [
       "        index                                             tweets  \\\n",
       "0           0  RT @sandracarrara1: Governo Bolsonaro inovando...   \n",
       "1           1  RT @BalsanubCandido: #7DeSetembroVaiSerGigante...   \n",
       "2           2  RT @LizzyeChristy: ParabÃ©ns Bolsonaro, Curiti...   \n",
       "3           3  RT @BrazilFight: A matÃ©ria da Folha sobre a c...   \n",
       "4           4  RT @GuedinhoeFans: Carluxo se esqueceu de reno...   \n",
       "...       ...                                                ...   \n",
       "34320  179470  RT @jpnewspr: Nesta quarta-feira (31), o RN Op...   \n",
       "34321  179473  @camialtr amigakkkkkkkkkkkkkkkkkkkkk sera q o ...   \n",
       "34322  179487  Como Bolsonaro recuperou moto e pistola roubad...   \n",
       "34323  179489  O boy ganha um salÃ¡rio por mÃªs, mora na peri...   \n",
       "34324  179496  @danieljosebr Concordo contigo, Louro JosÃ©\\nA...   \n",
       "\n",
       "       vadar compound vadar sentiment  \n",
       "0              0.5267        positive  \n",
       "1              0.0000         neutral  \n",
       "2              0.0000         neutral  \n",
       "3              0.0000         neutral  \n",
       "4              0.4215        positive  \n",
       "...               ...             ...  \n",
       "34320          0.3182        positive  \n",
       "34321          0.0000         neutral  \n",
       "34322         -0.5106        negative  \n",
       "34323          0.8442        positive  \n",
       "34324          0.0000         neutral  \n",
       "\n",
       "[34325 rows x 4 columns]"
      ]
     },
     "execution_count": 91,
     "metadata": {},
     "output_type": "execute_result"
    }
   ],
   "source": [
    "d"
   ]
  },
  {
   "cell_type": "code",
   "execution_count": 92,
   "id": "5a8bef9c",
   "metadata": {},
   "outputs": [
    {
     "data": {
      "text/html": [
       "<div>\n",
       "<style scoped>\n",
       "    .dataframe tbody tr th:only-of-type {\n",
       "        vertical-align: middle;\n",
       "    }\n",
       "\n",
       "    .dataframe tbody tr th {\n",
       "        vertical-align: top;\n",
       "    }\n",
       "\n",
       "    .dataframe thead th {\n",
       "        text-align: right;\n",
       "    }\n",
       "</style>\n",
       "<table border=\"1\" class=\"dataframe\">\n",
       "  <thead>\n",
       "    <tr style=\"text-align: right;\">\n",
       "      <th></th>\n",
       "      <th>tweets</th>\n",
       "      <th>vadar sentiment</th>\n",
       "    </tr>\n",
       "  </thead>\n",
       "  <tbody>\n",
       "    <tr>\n",
       "      <th>0</th>\n",
       "      <td>RT @sandracarrara1: Governo Bolsonaro inovando...</td>\n",
       "      <td>positive</td>\n",
       "    </tr>\n",
       "    <tr>\n",
       "      <th>1</th>\n",
       "      <td>RT @BalsanubCandido: #7DeSetembroVaiSerGigante...</td>\n",
       "      <td>neutral</td>\n",
       "    </tr>\n",
       "    <tr>\n",
       "      <th>2</th>\n",
       "      <td>RT @LizzyeChristy: ParabÃ©ns Bolsonaro, Curiti...</td>\n",
       "      <td>neutral</td>\n",
       "    </tr>\n",
       "    <tr>\n",
       "      <th>3</th>\n",
       "      <td>RT @BrazilFight: A matÃ©ria da Folha sobre a c...</td>\n",
       "      <td>neutral</td>\n",
       "    </tr>\n",
       "    <tr>\n",
       "      <th>4</th>\n",
       "      <td>RT @GuedinhoeFans: Carluxo se esqueceu de reno...</td>\n",
       "      <td>positive</td>\n",
       "    </tr>\n",
       "    <tr>\n",
       "      <th>...</th>\n",
       "      <td>...</td>\n",
       "      <td>...</td>\n",
       "    </tr>\n",
       "    <tr>\n",
       "      <th>34320</th>\n",
       "      <td>RT @jpnewspr: Nesta quarta-feira (31), o RN Op...</td>\n",
       "      <td>positive</td>\n",
       "    </tr>\n",
       "    <tr>\n",
       "      <th>34321</th>\n",
       "      <td>@camialtr amigakkkkkkkkkkkkkkkkkkkkk sera q o ...</td>\n",
       "      <td>neutral</td>\n",
       "    </tr>\n",
       "    <tr>\n",
       "      <th>34322</th>\n",
       "      <td>Como Bolsonaro recuperou moto e pistola roubad...</td>\n",
       "      <td>negative</td>\n",
       "    </tr>\n",
       "    <tr>\n",
       "      <th>34323</th>\n",
       "      <td>O boy ganha um salÃ¡rio por mÃªs, mora na peri...</td>\n",
       "      <td>positive</td>\n",
       "    </tr>\n",
       "    <tr>\n",
       "      <th>34324</th>\n",
       "      <td>@danieljosebr Concordo contigo, Louro JosÃ©\\nA...</td>\n",
       "      <td>neutral</td>\n",
       "    </tr>\n",
       "  </tbody>\n",
       "</table>\n",
       "<p>34325 rows × 2 columns</p>\n",
       "</div>"
      ],
      "text/plain": [
       "                                                  tweets vadar sentiment\n",
       "0      RT @sandracarrara1: Governo Bolsonaro inovando...        positive\n",
       "1      RT @BalsanubCandido: #7DeSetembroVaiSerGigante...         neutral\n",
       "2      RT @LizzyeChristy: ParabÃ©ns Bolsonaro, Curiti...         neutral\n",
       "3      RT @BrazilFight: A matÃ©ria da Folha sobre a c...         neutral\n",
       "4      RT @GuedinhoeFans: Carluxo se esqueceu de reno...        positive\n",
       "...                                                  ...             ...\n",
       "34320  RT @jpnewspr: Nesta quarta-feira (31), o RN Op...        positive\n",
       "34321  @camialtr amigakkkkkkkkkkkkkkkkkkkkk sera q o ...         neutral\n",
       "34322  Como Bolsonaro recuperou moto e pistola roubad...        negative\n",
       "34323  O boy ganha um salÃ¡rio por mÃªs, mora na peri...        positive\n",
       "34324  @danieljosebr Concordo contigo, Louro JosÃ©\\nA...         neutral\n",
       "\n",
       "[34325 rows x 2 columns]"
      ]
     },
     "execution_count": 92,
     "metadata": {},
     "output_type": "execute_result"
    }
   ],
   "source": [
    "d.drop(columns=[\"vadar compound\", \"index\"])"
   ]
  },
  {
   "cell_type": "code",
   "execution_count": 93,
   "id": "7ad9deea",
   "metadata": {},
   "outputs": [],
   "source": [
    "d.to_csv(\"sentimento_tweets_31-08\")"
   ]
  },
  {
   "cell_type": "code",
   "execution_count": 7,
   "id": "f0c7a434",
   "metadata": {},
   "outputs": [
    {
     "name": "stderr",
     "output_type": "stream",
     "text": [
      "[nltk_data] Downloading package stopwords to\n",
      "[nltk_data]     /home/giovana/nltk_data...\n",
      "[nltk_data]   Package stopwords is already up-to-date!\n",
      "[nltk_data] Downloading package rslp to /home/giovana/nltk_data...\n",
      "[nltk_data]   Package rslp is already up-to-date!\n",
      "[nltk_data] Downloading package punkt to /home/giovana/nltk_data...\n",
      "[nltk_data]   Package punkt is already up-to-date!\n",
      "[nltk_data] Downloading package wordnet to /home/giovana/nltk_data...\n",
      "[nltk_data]   Package wordnet is already up-to-date!\n"
     ]
    },
    {
     "data": {
      "text/plain": [
       "True"
      ]
     },
     "execution_count": 7,
     "metadata": {},
     "output_type": "execute_result"
    }
   ],
   "source": [
    "#pre processado\n",
    "import nltk\n",
    "nltk.download('stopwords')\n",
    "nltk.download('rslp')\n",
    "nltk.download('punkt')\n",
    "nltk.download('wordnet')"
   ]
  },
  {
   "cell_type": "code",
   "execution_count": 8,
   "id": "6241a3a0",
   "metadata": {},
   "outputs": [],
   "source": [
    "def RemoveStopwords(instancia):\n",
    "    stopwords = set(nltk.corpus.stopwords.words('portuguese'))\n",
    "    palavras = [i for i in instancia.split() if not i in stopwords]\n",
    "    return (\"\".join(palavras))"
   ]
  },
  {
   "cell_type": "code",
   "execution_count": 9,
   "id": "c9fe1f6a",
   "metadata": {},
   "outputs": [],
   "source": [
    "def Stemming(instancia):\n",
    "    stemmer = nltk.stem.RSLPStemmer()\n",
    "    palavras = []\n",
    "    for w in instancia.split():\n",
    "        palavras.append(stemmer.stem(w))\n",
    "    return (\"\".join(palavras))"
   ]
  },
  {
   "cell_type": "code",
   "execution_count": 10,
   "id": "4ac6d79d",
   "metadata": {},
   "outputs": [],
   "source": [
    "def limpeza_dados(instancia):\n",
    "    instancia = re.sub(r\"http\\S+\",\"\", instancia).lower().replace('.', '').replace(';','')\n",
    "    return(instancia)"
   ]
  },
  {
   "cell_type": "code",
   "execution_count": 11,
   "id": "93976bd8",
   "metadata": {},
   "outputs": [],
   "source": [
    "from nltk.stem import WordNetLemmatizer\n",
    "wordnet_lemmatizer = WordNetLemmatizer()"
   ]
  },
  {
   "cell_type": "code",
   "execution_count": 12,
   "id": "bf7261bb",
   "metadata": {},
   "outputs": [],
   "source": [
    "def Lemmatization(instancia):\n",
    "    palavras = []\n",
    "    for w in instancia.split():\n",
    "        palavras.append(wordnet_lemmatizer.lemmatize(w))\n",
    "    return (\"\".join(palavras))"
   ]
  },
  {
   "cell_type": "code",
   "execution_count": 13,
   "id": "503ef2dd",
   "metadata": {},
   "outputs": [],
   "source": [
    "def Preprocessing(instancia):\n",
    "    stemmer = nltk.stem.RSLPStemmer()\n",
    "    instancia = re.sub(r\"http\\S+\",\"\", instancia).lower().replace('.', '').replace(';','')\n",
    "    stopwords = set(nltk.corpus.stopwords.words('portuguese'))\n",
    "    palavras = [stemmer.stem(i) for i in instancia.split() if not i in stopwords]\n",
    "    return (\"\".join(palavras))"
   ]
  },
  {
   "cell_type": "code",
   "execution_count": 14,
   "id": "df85ce88",
   "metadata": {},
   "outputs": [],
   "source": [
    "tweets = df['full_text']"
   ]
  },
  {
   "cell_type": "code",
   "execution_count": 15,
   "id": "d5bc44aa",
   "metadata": {},
   "outputs": [],
   "source": [
    "tweets = [Preprocessing(i) for i in tweets]"
   ]
  },
  {
   "cell_type": "code",
   "execution_count": 16,
   "id": "1333830a",
   "metadata": {},
   "outputs": [
    {
     "data": {
      "text/plain": [
       "['rt@sandracarrara1:governbolsonarinovsemprbombrasil,bombrasil#bolsonaronoprimeiroturn#bolsonaroreâ\\x80¦',\n",
       " 'rt@balsanubcandido:#7desetembrovaisergigquantministrstfsencpicircbataumentnãºmerâ\\x80¦',\n",
       " 'rt@lizzyechristy:parabã©mbolsonaro,curitibama!(avcomendaraãºjo/avtorres,31/08/2022)',\n",
       " 'rt@brazilfight:matã©rfolhsobrcomprimã³velfamã\\xadlbolsonaro,saiuontfolha,tã£ridã\\xadculhojelaâ\\x80¦',\n",
       " 'rt@guedinhoefans:carluxesquecrenovdomã\\xadnisitnovdoncomprjeitgostmuitoâ\\x80¦',\n",
       " 'rt@dramayraoficial:defenmulheres?tebetacitseremovpropagandmichellbolsonar',\n",
       " 'rt@supermenbr:nã£votromã¡risenador,tã¡ignorpresidbolsonarvamdanielsilv',\n",
       " 'rt@kimpaim:eleiluljogobjetbolsonaro,enquantpresidpilotdurmotociatvocãªnã£vaivâ\\x80¦',\n",
       " 'rt@flaviobolsonaro:candidatfalâ\\x80\\x9clugmulhã©ondquiserâ\\x80\\x9d,qucensurmulhlugfala?!defêssâ\\x80¦',\n",
       " 'rt@sandramorenah22:tebetvaiãjustiã§obrigbolsonartirarpropagandmichell\"mulhvotmulher\"aã\\xadelaâ\\x80¦']"
      ]
     },
     "execution_count": 16,
     "metadata": {},
     "output_type": "execute_result"
    }
   ],
   "source": [
    "tweets[:10]"
   ]
  },
  {
   "cell_type": "code",
   "execution_count": 17,
   "id": "b658f41e",
   "metadata": {},
   "outputs": [],
   "source": [
    "#tokenizacao\n",
    "from nltk.tokenize import word_tokenize"
   ]
  },
  {
   "cell_type": "code",
   "execution_count": 18,
   "id": "522370ae",
   "metadata": {},
   "outputs": [],
   "source": [
    "from nltk.tokenize import TweetTokenizer"
   ]
  },
  {
   "cell_type": "code",
   "execution_count": 19,
   "id": "770f54b7",
   "metadata": {},
   "outputs": [],
   "source": [
    "tweet_tokenizer = TweetTokenizer()"
   ]
  },
  {
   "cell_type": "code",
   "execution_count": 20,
   "id": "27dee426",
   "metadata": {},
   "outputs": [],
   "source": [
    "vectorizer = CountVectorizer(analyzer = \"word\", tokenizer = tweet_tokenizer.tokenize)"
   ]
  },
  {
   "cell_type": "code",
   "execution_count": 21,
   "id": "547e0cb6",
   "metadata": {},
   "outputs": [
    {
     "data": {
      "text/plain": [
       "scipy.sparse.csr.csr_matrix"
      ]
     },
     "execution_count": 21,
     "metadata": {},
     "output_type": "execute_result"
    }
   ],
   "source": [
    "freq_tweets = vectorizer.fit_transform(tweets)\n",
    "#gerar uma matriz esparsa\n",
    "type(freq_tweets)"
   ]
  },
  {
   "cell_type": "code",
   "execution_count": 22,
   "id": "4b58b1de",
   "metadata": {},
   "outputs": [
    {
     "data": {
      "text/plain": [
       "(34325, 102254)"
      ]
     },
     "execution_count": 22,
     "metadata": {},
     "output_type": "execute_result"
    }
   ],
   "source": [
    "freq_tweets.shape #cada palavra encontrada forma uma nova coluna"
   ]
  },
  {
   "cell_type": "code",
   "execution_count": 23,
   "id": "d69430b8",
   "metadata": {},
   "outputs": [
    {
     "ename": "NameError",
     "evalue": "name 'classes' is not defined",
     "output_type": "error",
     "traceback": [
      "\u001b[0;31m---------------------------------------------------------------------------\u001b[0m",
      "\u001b[0;31mNameError\u001b[0m                                 Traceback (most recent call last)",
      "\u001b[0;32m/tmp/ipykernel_20918/2226774884.py\u001b[0m in \u001b[0;36m<module>\u001b[0;34m\u001b[0m\n\u001b[1;32m      1\u001b[0m \u001b[0mmodelo\u001b[0m \u001b[0;34m=\u001b[0m \u001b[0mMultinomialNB\u001b[0m\u001b[0;34m(\u001b[0m\u001b[0;34m)\u001b[0m\u001b[0;34m\u001b[0m\u001b[0;34m\u001b[0m\u001b[0m\n\u001b[0;32m----> 2\u001b[0;31m \u001b[0mmodelo\u001b[0m\u001b[0;34m.\u001b[0m\u001b[0mfit\u001b[0m\u001b[0;34m(\u001b[0m\u001b[0mfreq_tweets\u001b[0m\u001b[0;34m,\u001b[0m \u001b[0mclasses\u001b[0m\u001b[0;34m)\u001b[0m\u001b[0;34m\u001b[0m\u001b[0;34m\u001b[0m\u001b[0m\n\u001b[0m",
      "\u001b[0;31mNameError\u001b[0m: name 'classes' is not defined"
     ]
    }
   ],
   "source": [
    "modelo = MultinomialNB()\n",
    "modelo.fit(freq_tweets, classes)"
   ]
  },
  {
   "cell_type": "code",
   "execution_count": null,
   "id": "a672781c",
   "metadata": {},
   "outputs": [],
   "source": []
  }
 ],
 "metadata": {
  "kernelspec": {
   "display_name": "Python 3 (ipykernel)",
   "language": "python",
   "name": "python3"
  },
  "language_info": {
   "codemirror_mode": {
    "name": "ipython",
    "version": 3
   },
   "file_extension": ".py",
   "mimetype": "text/x-python",
   "name": "python",
   "nbconvert_exporter": "python",
   "pygments_lexer": "ipython3",
   "version": "3.9.16"
  }
 },
 "nbformat": 4,
 "nbformat_minor": 5
}
