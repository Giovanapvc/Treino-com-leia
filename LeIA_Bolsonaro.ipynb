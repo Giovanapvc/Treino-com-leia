{
 "cells": [
  {
   "cell_type": "code",
   "execution_count": 60,
   "id": "037d1e14",
   "metadata": {},
   "outputs": [],
   "source": [
    "from leia import SentimentIntensityAnalyzer \n",
    "s = SentimentIntensityAnalyzer()\n",
    "import pandas as pd\n",
    "from csv import reader\n",
    "import csv\n",
    "import random\n",
    "import numpy as np\n",
    "import matplotlib.pyplot as plt\n",
    "import seaborn as sns"
   ]
  },
  {
   "cell_type": "code",
   "execution_count": 66,
   "id": "a86fe505",
   "metadata": {},
   "outputs": [],
   "source": [
    "df = pd.read_csv('tweets_bolsonaro.csv',names=['index','tweets'], header=0)"
   ]
  },
  {
   "cell_type": "code",
   "execution_count": 67,
   "id": "1ac018d5",
   "metadata": {},
   "outputs": [
    {
     "data": {
      "text/html": [
       "<div>\n",
       "<style scoped>\n",
       "    .dataframe tbody tr th:only-of-type {\n",
       "        vertical-align: middle;\n",
       "    }\n",
       "\n",
       "    .dataframe tbody tr th {\n",
       "        vertical-align: top;\n",
       "    }\n",
       "\n",
       "    .dataframe thead th {\n",
       "        text-align: right;\n",
       "    }\n",
       "</style>\n",
       "<table border=\"1\" class=\"dataframe\">\n",
       "  <thead>\n",
       "    <tr style=\"text-align: right;\">\n",
       "      <th></th>\n",
       "      <th>index</th>\n",
       "      <th>tweets</th>\n",
       "    </tr>\n",
       "  </thead>\n",
       "  <tbody>\n",
       "    <tr>\n",
       "      <th>0</th>\n",
       "      <td>0</td>\n",
       "      <td>RT @sandracarrara1: Governo Bolsonaro inovando...</td>\n",
       "    </tr>\n",
       "    <tr>\n",
       "      <th>1</th>\n",
       "      <td>1</td>\n",
       "      <td>RT @BalsanubCandido: #7DeSetembroVaiSerGigante...</td>\n",
       "    </tr>\n",
       "    <tr>\n",
       "      <th>2</th>\n",
       "      <td>2</td>\n",
       "      <td>RT @LizzyeChristy: ParabÃ©ns Bolsonaro, Curiti...</td>\n",
       "    </tr>\n",
       "    <tr>\n",
       "      <th>3</th>\n",
       "      <td>3</td>\n",
       "      <td>RT @BrazilFight: A matÃ©ria da Folha sobre a c...</td>\n",
       "    </tr>\n",
       "    <tr>\n",
       "      <th>4</th>\n",
       "      <td>4</td>\n",
       "      <td>RT @GuedinhoeFans: Carluxo se esqueceu de reno...</td>\n",
       "    </tr>\n",
       "    <tr>\n",
       "      <th>...</th>\n",
       "      <td>...</td>\n",
       "      <td>...</td>\n",
       "    </tr>\n",
       "    <tr>\n",
       "      <th>34320</th>\n",
       "      <td>179470</td>\n",
       "      <td>RT @jpnewspr: Nesta quarta-feira (31), o RN Op...</td>\n",
       "    </tr>\n",
       "    <tr>\n",
       "      <th>34321</th>\n",
       "      <td>179473</td>\n",
       "      <td>@camialtr amigakkkkkkkkkkkkkkkkkkkkk sera q o ...</td>\n",
       "    </tr>\n",
       "    <tr>\n",
       "      <th>34322</th>\n",
       "      <td>179487</td>\n",
       "      <td>Como Bolsonaro recuperou moto e pistola roubad...</td>\n",
       "    </tr>\n",
       "    <tr>\n",
       "      <th>34323</th>\n",
       "      <td>179489</td>\n",
       "      <td>O boy ganha um salÃ¡rio por mÃªs, mora na peri...</td>\n",
       "    </tr>\n",
       "    <tr>\n",
       "      <th>34324</th>\n",
       "      <td>179496</td>\n",
       "      <td>@danieljosebr Concordo contigo, Louro JosÃ©\\nA...</td>\n",
       "    </tr>\n",
       "  </tbody>\n",
       "</table>\n",
       "<p>34325 rows × 2 columns</p>\n",
       "</div>"
      ],
      "text/plain": [
       "        index                                             tweets\n",
       "0           0  RT @sandracarrara1: Governo Bolsonaro inovando...\n",
       "1           1  RT @BalsanubCandido: #7DeSetembroVaiSerGigante...\n",
       "2           2  RT @LizzyeChristy: ParabÃ©ns Bolsonaro, Curiti...\n",
       "3           3  RT @BrazilFight: A matÃ©ria da Folha sobre a c...\n",
       "4           4  RT @GuedinhoeFans: Carluxo se esqueceu de reno...\n",
       "...       ...                                                ...\n",
       "34320  179470  RT @jpnewspr: Nesta quarta-feira (31), o RN Op...\n",
       "34321  179473  @camialtr amigakkkkkkkkkkkkkkkkkkkkk sera q o ...\n",
       "34322  179487  Como Bolsonaro recuperou moto e pistola roubad...\n",
       "34323  179489  O boy ganha um salÃ¡rio por mÃªs, mora na peri...\n",
       "34324  179496  @danieljosebr Concordo contigo, Louro JosÃ©\\nA...\n",
       "\n",
       "[34325 rows x 2 columns]"
      ]
     },
     "execution_count": 67,
     "metadata": {},
     "output_type": "execute_result"
    }
   ],
   "source": [
    "df"
   ]
  },
  {
   "cell_type": "code",
   "execution_count": 68,
   "id": "cfe613b4",
   "metadata": {},
   "outputs": [],
   "source": [
    "sent_i = SentimentIntensityAnalyzer()\n",
    "def vadar_sentiment(text):\n",
    "    return sent_i.polarity_scores(text)['compound']"
   ]
  },
  {
   "cell_type": "code",
   "execution_count": 70,
   "id": "d42f2d47",
   "metadata": {},
   "outputs": [],
   "source": [
    "# create new column for vadar compound sentiment score\n",
    "df['vadar compound'] = df['tweets'].apply(vadar_sentiment)"
   ]
  },
  {
   "cell_type": "code",
   "execution_count": 89,
   "id": "59b0744d",
   "metadata": {},
   "outputs": [],
   "source": [
    "def categorise_sentiment(sentiment, neg_threshold=-0.05, pos_threshold=0.05):\n",
    "    if sentiment < neg_threshold:\n",
    "        label = 'negative'\n",
    "    elif sentiment > pos_threshold:\n",
    "        label = 'positive'\n",
    "    else:\n",
    "        label = 'neutral'\n",
    "    return label\n",
    "\n",
    "# new col with vadar sentiment label based on vadar compound score\n",
    "df['vadar sentiment'] = df['vadar compound'].apply(categorise_sentiment)\n",
    "\n"
   ]
  },
  {
   "cell_type": "code",
   "execution_count": 90,
   "id": "ba90d59c",
   "metadata": {},
   "outputs": [
    {
     "data": {
      "text/plain": [
       "0        positive\n",
       "1         neutral\n",
       "2         neutral\n",
       "3         neutral\n",
       "4        positive\n",
       "           ...   \n",
       "34320    positive\n",
       "34321     neutral\n",
       "34322    negative\n",
       "34323    positive\n",
       "34324     neutral\n",
       "Name: vadar sentiment, Length: 34325, dtype: object"
      ]
     },
     "execution_count": 90,
     "metadata": {},
     "output_type": "execute_result"
    }
   ],
   "source": [
    "df['vadar sentiment']"
   ]
  },
  {
   "cell_type": "code",
   "execution_count": 91,
   "id": "ef1d3ac1",
   "metadata": {},
   "outputs": [],
   "source": [
    "df.drop_duplicates(['tweets'], inplace=True)"
   ]
  },
  {
   "cell_type": "code",
   "execution_count": 94,
   "id": "5b85de01",
   "metadata": {},
   "outputs": [],
   "source": [
    "classes = df['vadar sentiment']"
   ]
  },
  {
   "cell_type": "code",
   "execution_count": null,
   "id": "ccd480b7",
   "metadata": {},
   "outputs": [],
   "source": []
  },
  {
   "cell_type": "raw",
   "id": "4881abe5",
   "metadata": {},
   "source": []
  },
  {
   "cell_type": "code",
   "execution_count": null,
   "id": "ed045125",
   "metadata": {},
   "outputs": [],
   "source": []
  }
 ],
 "metadata": {
  "kernelspec": {
   "display_name": "Python 3 (ipykernel)",
   "language": "python",
   "name": "python3"
  },
  "language_info": {
   "codemirror_mode": {
    "name": "ipython",
    "version": 3
   },
   "file_extension": ".py",
   "mimetype": "text/x-python",
   "name": "python",
   "nbconvert_exporter": "python",
   "pygments_lexer": "ipython3",
   "version": "3.9.16"
  }
 },
 "nbformat": 4,
 "nbformat_minor": 5
}
